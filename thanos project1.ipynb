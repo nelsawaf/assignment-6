{
 "cells": [
  {
   "cell_type": "markdown",
   "metadata": {},
   "source": [
    "## Thanos - project 1"
   ]
  },
  {
   "cell_type": "markdown",
   "metadata": {},
   "source": [
    "### 1- function Thanos to read the files"
   ]
  },
  {
   "cell_type": "code",
   "execution_count": 1,
   "metadata": {},
   "outputs": [],
   "source": [
    "import os\n",
    "import random\n",
    "os.chdir(f'{os.getcwd()}\\\\assi-than')\n",
    "def thanos_project(earth):\n",
    "    people=os.listdir(earth)\n",
    "    return people"
   ]
  },
  {
   "cell_type": "markdown",
   "metadata": {},
   "source": [
    "#### Try it by yourself"
   ]
  },
  {
   "cell_type": "code",
   "execution_count": 3,
   "metadata": {},
   "outputs": [],
   "source": [
    "people=thanos_project(os.getcwd())"
   ]
  },
  {
   "cell_type": "code",
   "execution_count": 4,
   "metadata": {},
   "outputs": [
    {
     "data": {
      "text/plain": [
       "['1096178',\n",
       " '1241179',\n",
       " '1289748',\n",
       " '1418549',\n",
       " '1598007',\n",
       " '1847331',\n",
       " '1974927',\n",
       " '1993057',\n",
       " '2007383',\n",
       " '2205579',\n",
       " '2361132',\n",
       " '2663933',\n",
       " '2681045',\n",
       " '2754271',\n",
       " '3179963',\n",
       " '3211137',\n",
       " '3259659',\n",
       " '3371153',\n",
       " '3508713',\n",
       " '3514621',\n",
       " '3923897',\n",
       " '4040357',\n",
       " '4378726',\n",
       " '4704654',\n",
       " '4745102',\n",
       " '5716115',\n",
       " '5884867',\n",
       " '5985468',\n",
       " '6100358',\n",
       " '6126790',\n",
       " '6403697',\n",
       " '6696454',\n",
       " '6863626',\n",
       " '7009231',\n",
       " '7135539',\n",
       " '7182108',\n",
       " '7310869',\n",
       " '7412303',\n",
       " '7489346',\n",
       " '7836121',\n",
       " '7851801',\n",
       " '8160834',\n",
       " '8451295',\n",
       " '8480080',\n",
       " '8845556',\n",
       " '9005165',\n",
       " '9210074',\n",
       " '9283468',\n",
       " '9362799',\n",
       " '9395113']"
      ]
     },
     "execution_count": 4,
     "metadata": {},
     "output_type": "execute_result"
    }
   ],
   "source": [
    "people"
   ]
  },
  {
   "cell_type": "markdown",
   "metadata": {},
   "source": [
    "### 2- Renaming the files with random names:"
   ]
  },
  {
   "cell_type": "code",
   "execution_count": 5,
   "metadata": {},
   "outputs": [],
   "source": [
    "def renaming():\n",
    "    for i in range(len(people)):\n",
    "        name=str(random.randint(758694,9458767))\n",
    "        return name"
   ]
  },
  {
   "cell_type": "code",
   "execution_count": 6,
   "metadata": {},
   "outputs": [],
   "source": [
    "def random_names(lst):\n",
    "    for i in lst:\n",
    "        os.rename(i,renaming())"
   ]
  },
  {
   "cell_type": "code",
   "execution_count": 7,
   "metadata": {},
   "outputs": [],
   "source": [
    "random_names(people)"
   ]
  },
  {
   "cell_type": "markdown",
   "metadata": {},
   "source": [
    "#### checkout the changes:    BOOOOOOOM!!"
   ]
  },
  {
   "cell_type": "code",
   "execution_count": 9,
   "metadata": {},
   "outputs": [
    {
     "data": {
      "text/plain": [
       "['1037177',\n",
       " '1078743',\n",
       " '1083526',\n",
       " '1400454',\n",
       " '1443423',\n",
       " '1552321',\n",
       " '1642285',\n",
       " '1653065',\n",
       " '1815435',\n",
       " '2162503',\n",
       " '2255433',\n",
       " '2273669',\n",
       " '2296197',\n",
       " '2400601',\n",
       " '2434075',\n",
       " '2457705',\n",
       " '2571229',\n",
       " '2736063',\n",
       " '2804542',\n",
       " '2844919',\n",
       " '3844656',\n",
       " '4217478',\n",
       " '4307843',\n",
       " '5081928',\n",
       " '5156900',\n",
       " '5372548',\n",
       " '5429419',\n",
       " '5638212',\n",
       " '5691641',\n",
       " '5954113',\n",
       " '6052837',\n",
       " '6220056',\n",
       " '6355321',\n",
       " '6394694',\n",
       " '6789241',\n",
       " '6884287',\n",
       " '6905175',\n",
       " '7034840',\n",
       " '7096880',\n",
       " '7190686',\n",
       " '7289617',\n",
       " '8023926',\n",
       " '8169637',\n",
       " '8197802',\n",
       " '8567569',\n",
       " '8877950',\n",
       " '890587',\n",
       " '9002937',\n",
       " '9432365',\n",
       " '952650']"
      ]
     },
     "execution_count": 9,
     "metadata": {},
     "output_type": "execute_result"
    }
   ],
   "source": [
    "people=thanos_project(os.getcwd())\n",
    "people"
   ]
  },
  {
   "cell_type": "code",
   "execution_count": null,
   "metadata": {},
   "outputs": [],
   "source": []
  }
 ],
 "metadata": {
  "kernelspec": {
   "display_name": "Python 3",
   "language": "python",
   "name": "python3"
  },
  "language_info": {
   "codemirror_mode": {
    "name": "ipython",
    "version": 3
   },
   "file_extension": ".py",
   "mimetype": "text/x-python",
   "name": "python",
   "nbconvert_exporter": "python",
   "pygments_lexer": "ipython3",
   "version": "3.8.5"
  }
 },
 "nbformat": 4,
 "nbformat_minor": 2
}
